{
 "cells": [
  {
   "cell_type": "code",
   "execution_count": 1,
   "id": "c94fef9f",
   "metadata": {},
   "outputs": [],
   "source": [
    "from pdf2docx import Converter\n",
    "import PyPDF2\n",
    "import docx2txt"
   ]
  },
  {
   "cell_type": "code",
   "execution_count": 2,
   "id": "a4f8b348",
   "metadata": {},
   "outputs": [],
   "source": [
    "pdf_file = 'resume.pdf'\n",
    "doc_file = 'resume.docx'"
   ]
  },
  {
   "cell_type": "code",
   "execution_count": 3,
   "id": "f4312cc5",
   "metadata": {},
   "outputs": [
    {
     "name": "stderr",
     "output_type": "stream",
     "text": [
      "[INFO] Start to convert resume.pdf\n",
      "[INFO] \u001b[1;36m[1/4] Opening document...\u001b[0m\n",
      "[INFO] \u001b[1;36m[2/4] Analyzing document...\u001b[0m\n",
      "[INFO] \u001b[1;36m[3/4] Parsing pages...\u001b[0m\n",
      "[INFO] (1/2) Page 1\n",
      "[INFO] (2/2) Page 2\n",
      "[INFO] \u001b[1;36m[4/4] Creating pages...\u001b[0m\n",
      "[INFO] (1/2) Page 1\n",
      "[INFO] (2/2) Page 2\n",
      "[INFO] Terminated in 0.44s.\n"
     ]
    }
   ],
   "source": [
    "cv = Converter(pdf_file)\n",
    "cv.convert(doc_file)"
   ]
  },
  {
   "cell_type": "code",
   "execution_count": 4,
   "id": "4ce5a6e1",
   "metadata": {},
   "outputs": [],
   "source": [
    "text = docx2txt.process('resume.docx')"
   ]
  },
  {
   "cell_type": "code",
   "execution_count": 5,
   "id": "1fa69dac",
   "metadata": {
    "scrolled": true
   },
   "outputs": [
    {
     "name": "stdout",
     "output_type": "stream",
     "text": [
      "Anagha Vinayak Kamat  Full-Stack Developer \n",
      "\n",
      " LinkedIn :  Check My LinkedIn Profile  GitHub :  Check My GitHub Profile  Portfolio :  Go To My Website \n",
      "\n",
      "ㅡ\n",
      "\n",
      " Skills \n",
      "\n",
      " Thakurli(E), \n",
      " Thane, 421 201, \n",
      " Maharashtra, India. \n",
      "\n",
      " Phone: +91 8779660658 \n",
      " Email: anaghavinayakkamat@gmail.comF \n",
      "\n",
      "\n",
      "\n",
      " Technical:  Python, R Programming, Django, HTML5, CSS3, \n",
      "\n",
      " Javascript, Bootstrap, MySQL, PostgreSQL, Software Testing, \n",
      " Full-Stack Development, MS Office \n",
      " Other:  Interpersonal Communication, Leadership, Creative \n",
      " Thinking, Problem Solving \n",
      "\n",
      "\tㅡ\t\n",
      "\n",
      "\t Project Experience \t Job Recruitment Portal \n",
      "\t https://github.com/AnaghaVinayakKamat/Job-Recruitment-Website \t It is a simple job recruitment portal developed using  Python, \t Django, HTML5, CSS3, Bootstrap, and Javascript.  Apart  from \t general job postings and applications one can create and download \t resumes and send emails automatically on this system. \n",
      "\n",
      " Kamat Opticians Website \n",
      " https://kamatopticians.netlify.app \n",
      " It is a static website for a local business Kamat Optician. It is \n",
      " developed using  HTML5, CSS3, Bootstrap,  and  Javascript. \n",
      "\n",
      "\tㅡ\t\n",
      "\n",
      "\t Education \t Keraleeya Samajam’s Model College / BSc. IT \t 2022, 78.8% (9.55 CGPA) \n",
      "\t Completed Bachelor’s in Information technology from  Mumbai \t University. \n",
      "\n",
      " Keraleeya Samajam’s Model College / HSC \n",
      " 2019, 58.60% \n",
      " Pursued 12  th  class (science) from Maharashtra State  Board. \n",
      "\n",
      " Mahila Samiti English High School / SSC \n",
      " 2017, 84.60% \n",
      " Completed 10  th  from Maharashtra State Board. \n",
      "\n",
      "\n",
      "\n",
      "\n",
      "\n",
      "ㅡ\n",
      " Certification Courses \n",
      "\n",
      "\n",
      "\n",
      "\n",
      "\n",
      " ● \n",
      "\n",
      " 6 Real World ML Applications using Python \n",
      "\n",
      "\n",
      "\n",
      " Issued by Udemy, May 2022 \n",
      "\n",
      "\n",
      "\n",
      " ● \n",
      "\n",
      " Complete R programming for Data Analytics \n",
      "\n",
      " Issued by Udemy, June 2022 \n",
      "\n",
      "ㅡ\n",
      " Awards \n",
      "\n",
      "\n",
      "\n",
      " 3rd Rank in Semester 3 - Keraleeya Samajam’s Model College  Academic Year 2020-2021, Mumbai \n",
      "\n",
      " Ranked 1st in semester 3 examinations of BSc Information \n",
      " Technology. \n",
      "\n",
      " Avishkar - Participation Certificate \n",
      " Academic Year 2020-2021, Mumbai \n",
      " My team was shortlisted from college to represent an IOT \n",
      " project work.\n"
     ]
    }
   ],
   "source": [
    "print(text)"
   ]
  },
  {
   "cell_type": "code",
   "execution_count": null,
   "id": "2041f050",
   "metadata": {},
   "outputs": [],
   "source": []
  }
 ],
 "metadata": {
  "kernelspec": {
   "display_name": "Python 3 (ipykernel)",
   "language": "python",
   "name": "python3"
  },
  "language_info": {
   "codemirror_mode": {
    "name": "ipython",
    "version": 3
   },
   "file_extension": ".py",
   "mimetype": "text/x-python",
   "name": "python",
   "nbconvert_exporter": "python",
   "pygments_lexer": "ipython3",
   "version": "3.10.5"
  }
 },
 "nbformat": 4,
 "nbformat_minor": 5
}
