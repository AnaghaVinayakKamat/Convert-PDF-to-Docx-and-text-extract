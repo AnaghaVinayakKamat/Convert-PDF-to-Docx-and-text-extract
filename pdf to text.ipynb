{
 "cells": [
  {
   "cell_type": "code",
   "execution_count": 1,
   "id": "c94fef9f",
   "metadata": {},
   "outputs": [],
   "source": [
    "from pdf2docx import Converter\n",
    "import PyPDF2\n",
    "import docx2txt"
   ]
  },
  {
   "cell_type": "code",
   "execution_count": 2,
   "id": "a4f8b348",
   "metadata": {},
   "outputs": [],
   "source": [
    "pdf_file = 'resume.pdf'\n",
    "doc_file = 'resume.docx'"
   ]
  },
  {
   "cell_type": "code",
   "execution_count": 3,
   "id": "f4312cc5",
   "metadata": {},
   "outputs": [
    {
     "name": "stderr",
     "output_type": "stream",
     "text": [
      "[INFO] Start to convert resume.pdf\n",
      "[INFO] \u001b[1;36m[1/4] Opening document...\u001b[0m\n",
      "[INFO] \u001b[1;36m[2/4] Analyzing document...\u001b[0m\n",
      "[INFO] \u001b[1;36m[3/4] Parsing pages...\u001b[0m\n",
      "[INFO] (1/2) Page 1\n",
      "[INFO] (2/2) Page 2\n",
      "[INFO] \u001b[1;36m[4/4] Creating pages...\u001b[0m\n",
      "[INFO] (1/2) Page 1\n",
      "[INFO] (2/2) Page 2\n",
      "[INFO] Terminated in 0.44s.\n"
     ]
    }
   ],
   "source": [
    "cv = Converter(pdf_file)\n",
    "cv.convert(doc_file)"
   ]
  },
  {
   "cell_type": "code",
   "execution_count": 4,
   "id": "4ce5a6e1",
   "metadata": {},
   "outputs": [],
   "source": [
    "text = docx2txt.process('resume.docx')"
   ]
  },
  {
   "cell_type": "code",
   "execution_count": null,
   "id": "2041f050",
   "metadata": {},
   "outputs": [],
   "source": []
  }
 ],
 "metadata": {
  "kernelspec": {
   "display_name": "Python 3 (ipykernel)",
   "language": "python",
   "name": "python3"
  },
  "language_info": {
   "codemirror_mode": {
    "name": "ipython",
    "version": 3
   },
   "file_extension": ".py",
   "mimetype": "text/x-python",
   "name": "python",
   "nbconvert_exporter": "python",
   "pygments_lexer": "ipython3",
   "version": "3.10.5"
  }
 },
 "nbformat": 4,
 "nbformat_minor": 5
}
